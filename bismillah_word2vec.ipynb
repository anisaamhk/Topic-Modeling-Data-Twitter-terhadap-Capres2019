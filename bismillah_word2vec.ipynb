{
 "cells": [
  {
   "cell_type": "code",
   "execution_count": 2,
   "metadata": {},
   "outputs": [],
   "source": [
    "import gensim\n",
    "import logging\n",
    "import pandas as pd\n",
    "logging.basicConfig(format='%(asctime)s : %(levelname)s : %(message)s', level=logging.INFO)"
   ]
  },
  {
   "cell_type": "code",
   "execution_count": 3,
   "metadata": {},
   "outputs": [],
   "source": [
    "fo = pd.ExcelFile('cleandatajokowi.xlsx')\n",
    "df = pd.read_excel(fo, 'Sheet1')\n",
    "\n",
    "text_j = df['text']\n",
    "text_list_j =  [i.split(' ') for i in text_j]"
   ]
  },
  {
   "cell_type": "code",
   "execution_count": 4,
   "metadata": {},
   "outputs": [],
   "source": [
    "fo = pd.ExcelFile('cleandataprabowo.xlsx')\n",
    "df = pd.read_excel(fo, 'Sheet1')\n",
    "\n",
    "text_p = df['text']\n",
    "text_list_p =  [i.split(' ') for i in text_p]"
   ]
  },
  {
   "cell_type": "code",
   "execution_count": 5,
   "metadata": {},
   "outputs": [
    {
     "name": "stderr",
     "output_type": "stream",
     "text": [
      "2019-01-04 11:45:10,058 : INFO : collecting all words and their counts\n",
      "2019-01-04 11:45:10,063 : INFO : PROGRESS: at sentence #0, processed 0 words, keeping 0 word types\n",
      "2019-01-04 11:45:10,084 : INFO : collected 2277 word types from a corpus of 7108 raw words and 1274 sentences\n",
      "2019-01-04 11:45:10,090 : INFO : Loading a fresh vocabulary\n",
      "2019-01-04 11:45:10,119 : INFO : effective_min_count=2 retains 924 unique words (40% of original 2277, drops 1353)\n",
      "2019-01-04 11:45:10,122 : INFO : effective_min_count=2 leaves 5755 word corpus (80% of original 7108, drops 1353)\n",
      "2019-01-04 11:45:10,244 : INFO : deleting the raw counts dictionary of 2277 items\n",
      "2019-01-04 11:45:10,249 : INFO : sample=0.001 downsamples 63 most-common words\n",
      "2019-01-04 11:45:10,255 : INFO : downsampling leaves estimated 4490 word corpus (78.0% of prior 5755)\n",
      "2019-01-04 11:45:10,341 : INFO : estimated required memory for 924 words and 100 dimensions: 1201200 bytes\n",
      "2019-01-04 11:45:10,346 : INFO : resetting layer weights\n",
      "2019-01-04 11:45:10,551 : INFO : training model with 3 workers on 924 vocabulary and 100 features, using sg=0 hs=0 sample=0.001 negative=5 window=5\n",
      "2019-01-04 11:45:10,648 : INFO : worker thread finished; awaiting finish of 2 more threads\n",
      "2019-01-04 11:45:10,659 : INFO : worker thread finished; awaiting finish of 1 more threads\n",
      "2019-01-04 11:45:10,803 : INFO : worker thread finished; awaiting finish of 0 more threads\n",
      "2019-01-04 11:45:10,806 : INFO : EPOCH - 1 : training on 7108 raw words (4444 effective words) took 0.2s, 22428 effective words/s\n",
      "2019-01-04 11:45:10,843 : INFO : worker thread finished; awaiting finish of 2 more threads\n",
      "2019-01-04 11:45:10,854 : INFO : worker thread finished; awaiting finish of 1 more threads\n",
      "2019-01-04 11:45:10,900 : INFO : worker thread finished; awaiting finish of 0 more threads\n",
      "2019-01-04 11:45:10,904 : INFO : EPOCH - 2 : training on 7108 raw words (4466 effective words) took 0.1s, 60141 effective words/s\n",
      "2019-01-04 11:45:10,975 : INFO : worker thread finished; awaiting finish of 2 more threads\n",
      "2019-01-04 11:45:10,980 : INFO : worker thread finished; awaiting finish of 1 more threads\n",
      "2019-01-04 11:45:11,057 : INFO : worker thread finished; awaiting finish of 0 more threads\n",
      "2019-01-04 11:45:11,061 : INFO : EPOCH - 3 : training on 7108 raw words (4500 effective words) took 0.1s, 40444 effective words/s\n",
      "2019-01-04 11:45:11,124 : INFO : worker thread finished; awaiting finish of 2 more threads\n",
      "2019-01-04 11:45:11,130 : INFO : worker thread finished; awaiting finish of 1 more threads\n",
      "2019-01-04 11:45:11,204 : INFO : worker thread finished; awaiting finish of 0 more threads\n",
      "2019-01-04 11:45:11,216 : INFO : EPOCH - 4 : training on 7108 raw words (4486 effective words) took 0.1s, 37997 effective words/s\n",
      "2019-01-04 11:45:11,268 : INFO : worker thread finished; awaiting finish of 2 more threads\n",
      "2019-01-04 11:45:11,287 : INFO : worker thread finished; awaiting finish of 1 more threads\n",
      "2019-01-04 11:45:11,325 : INFO : worker thread finished; awaiting finish of 0 more threads\n",
      "2019-01-04 11:45:11,330 : INFO : EPOCH - 5 : training on 7108 raw words (4482 effective words) took 0.1s, 54255 effective words/s\n",
      "2019-01-04 11:45:11,334 : INFO : training on a 35540 raw words (22378 effective words) took 0.8s, 28683 effective words/s\n",
      "2019-01-04 11:45:11,351 : WARNING : under 10 jobs per worker: consider setting a smaller `batch_words' for smoother alpha decay\n",
      "2019-01-04 11:45:11,363 : INFO : training model with 3 workers on 924 vocabulary and 100 features, using sg=0 hs=0 sample=0.001 negative=5 window=5\n",
      "2019-01-04 11:45:11,432 : INFO : worker thread finished; awaiting finish of 2 more threads\n",
      "2019-01-04 11:45:11,444 : INFO : worker thread finished; awaiting finish of 1 more threads\n",
      "2019-01-04 11:45:11,489 : INFO : worker thread finished; awaiting finish of 0 more threads\n",
      "2019-01-04 11:45:11,492 : INFO : EPOCH - 1 : training on 7108 raw words (4515 effective words) took 0.1s, 44056 effective words/s\n",
      "2019-01-04 11:45:11,591 : INFO : worker thread finished; awaiting finish of 2 more threads\n",
      "2019-01-04 11:45:11,604 : INFO : worker thread finished; awaiting finish of 1 more threads\n",
      "2019-01-04 11:45:11,649 : INFO : worker thread finished; awaiting finish of 0 more threads\n",
      "2019-01-04 11:45:11,659 : INFO : EPOCH - 2 : training on 7108 raw words (4491 effective words) took 0.1s, 49734 effective words/s\n",
      "2019-01-04 11:45:11,716 : INFO : worker thread finished; awaiting finish of 2 more threads\n",
      "2019-01-04 11:45:11,728 : INFO : worker thread finished; awaiting finish of 1 more threads\n",
      "2019-01-04 11:45:11,780 : INFO : worker thread finished; awaiting finish of 0 more threads\n",
      "2019-01-04 11:45:11,803 : INFO : EPOCH - 3 : training on 7108 raw words (4493 effective words) took 0.1s, 39715 effective words/s\n",
      "2019-01-04 11:45:11,904 : INFO : worker thread finished; awaiting finish of 2 more threads\n",
      "2019-01-04 11:45:11,914 : INFO : worker thread finished; awaiting finish of 1 more threads\n",
      "2019-01-04 11:45:11,976 : INFO : worker thread finished; awaiting finish of 0 more threads\n",
      "2019-01-04 11:45:11,979 : INFO : EPOCH - 4 : training on 7108 raw words (4508 effective words) took 0.1s, 30185 effective words/s\n",
      "2019-01-04 11:45:12,038 : INFO : worker thread finished; awaiting finish of 2 more threads\n",
      "2019-01-04 11:45:12,046 : INFO : worker thread finished; awaiting finish of 1 more threads\n",
      "2019-01-04 11:45:12,097 : INFO : worker thread finished; awaiting finish of 0 more threads\n",
      "2019-01-04 11:45:12,101 : INFO : EPOCH - 5 : training on 7108 raw words (4470 effective words) took 0.1s, 47765 effective words/s\n",
      "2019-01-04 11:45:12,175 : INFO : worker thread finished; awaiting finish of 2 more threads\n",
      "2019-01-04 11:45:12,182 : INFO : worker thread finished; awaiting finish of 1 more threads\n",
      "2019-01-04 11:45:12,229 : INFO : worker thread finished; awaiting finish of 0 more threads\n",
      "2019-01-04 11:45:12,233 : INFO : EPOCH - 6 : training on 7108 raw words (4490 effective words) took 0.1s, 54741 effective words/s\n",
      "2019-01-04 11:45:12,301 : INFO : worker thread finished; awaiting finish of 2 more threads\n",
      "2019-01-04 11:45:12,309 : INFO : worker thread finished; awaiting finish of 1 more threads\n",
      "2019-01-04 11:45:12,365 : INFO : worker thread finished; awaiting finish of 0 more threads\n",
      "2019-01-04 11:45:12,375 : INFO : EPOCH - 7 : training on 7108 raw words (4520 effective words) took 0.1s, 43774 effective words/s\n",
      "2019-01-04 11:45:12,428 : INFO : worker thread finished; awaiting finish of 2 more threads\n",
      "2019-01-04 11:45:12,449 : INFO : worker thread finished; awaiting finish of 1 more threads\n",
      "2019-01-04 11:45:12,513 : INFO : worker thread finished; awaiting finish of 0 more threads\n",
      "2019-01-04 11:45:12,529 : INFO : EPOCH - 8 : training on 7108 raw words (4497 effective words) took 0.1s, 35780 effective words/s\n",
      "2019-01-04 11:45:12,580 : INFO : worker thread finished; awaiting finish of 2 more threads\n",
      "2019-01-04 11:45:12,592 : INFO : worker thread finished; awaiting finish of 1 more threads\n",
      "2019-01-04 11:45:12,642 : INFO : worker thread finished; awaiting finish of 0 more threads\n",
      "2019-01-04 11:45:12,644 : INFO : EPOCH - 9 : training on 7108 raw words (4475 effective words) took 0.1s, 49379 effective words/s\n",
      "2019-01-04 11:45:12,708 : INFO : worker thread finished; awaiting finish of 2 more threads\n",
      "2019-01-04 11:45:12,715 : INFO : worker thread finished; awaiting finish of 1 more threads\n",
      "2019-01-04 11:45:12,759 : INFO : worker thread finished; awaiting finish of 0 more threads\n",
      "2019-01-04 11:45:12,763 : INFO : EPOCH - 10 : training on 7108 raw words (4528 effective words) took 0.1s, 60195 effective words/s\n",
      "2019-01-04 11:45:12,830 : INFO : worker thread finished; awaiting finish of 2 more threads\n",
      "2019-01-04 11:45:12,839 : INFO : worker thread finished; awaiting finish of 1 more threads\n",
      "2019-01-04 11:45:12,873 : INFO : worker thread finished; awaiting finish of 0 more threads\n",
      "2019-01-04 11:45:12,875 : INFO : EPOCH - 11 : training on 7108 raw words (4498 effective words) took 0.1s, 67701 effective words/s\n",
      "2019-01-04 11:45:12,918 : INFO : worker thread finished; awaiting finish of 2 more threads\n",
      "2019-01-04 11:45:12,932 : INFO : worker thread finished; awaiting finish of 1 more threads\n",
      "2019-01-04 11:45:12,988 : INFO : worker thread finished; awaiting finish of 0 more threads\n"
     ]
    },
    {
     "name": "stderr",
     "output_type": "stream",
     "text": [
      "2019-01-04 11:45:12,991 : INFO : EPOCH - 12 : training on 7108 raw words (4484 effective words) took 0.1s, 47839 effective words/s\n",
      "2019-01-04 11:45:13,043 : INFO : worker thread finished; awaiting finish of 2 more threads\n",
      "2019-01-04 11:45:13,059 : INFO : worker thread finished; awaiting finish of 1 more threads\n",
      "2019-01-04 11:45:13,102 : INFO : worker thread finished; awaiting finish of 0 more threads\n",
      "2019-01-04 11:45:13,105 : INFO : EPOCH - 13 : training on 7108 raw words (4468 effective words) took 0.1s, 53898 effective words/s\n",
      "2019-01-04 11:45:13,155 : INFO : worker thread finished; awaiting finish of 2 more threads\n",
      "2019-01-04 11:45:13,178 : INFO : worker thread finished; awaiting finish of 1 more threads\n",
      "2019-01-04 11:45:13,229 : INFO : worker thread finished; awaiting finish of 0 more threads\n",
      "2019-01-04 11:45:13,238 : INFO : EPOCH - 14 : training on 7108 raw words (4504 effective words) took 0.1s, 41470 effective words/s\n",
      "2019-01-04 11:45:13,304 : INFO : worker thread finished; awaiting finish of 2 more threads\n",
      "2019-01-04 11:45:13,329 : INFO : worker thread finished; awaiting finish of 1 more threads\n",
      "2019-01-04 11:45:13,405 : INFO : worker thread finished; awaiting finish of 0 more threads\n",
      "2019-01-04 11:45:13,411 : INFO : EPOCH - 15 : training on 7108 raw words (4516 effective words) took 0.1s, 32883 effective words/s\n",
      "2019-01-04 11:45:13,417 : INFO : training on a 106620 raw words (67457 effective words) took 2.0s, 32939 effective words/s\n",
      "2019-01-04 11:45:13,429 : WARNING : under 10 jobs per worker: consider setting a smaller `batch_words' for smoother alpha decay\n"
     ]
    },
    {
     "data": {
      "text/plain": [
       "(67457, 106620)"
      ]
     },
     "execution_count": 5,
     "metadata": {},
     "output_type": "execute_result"
    }
   ],
   "source": [
    "from gensim.models import Word2Vec\n",
    "\n",
    "model_j = gensim.models.Word2Vec(text_list_j, size=100, window=5, min_count=2, workers=3)\n",
    "model_j.train(text_list_j, total_examples=len(text_list_j), epochs=15)"
   ]
  },
  {
   "cell_type": "code",
   "execution_count": 6,
   "metadata": {},
   "outputs": [
    {
     "name": "stderr",
     "output_type": "stream",
     "text": [
      "2019-01-04 11:45:16,146 : INFO : collecting all words and their counts\n",
      "2019-01-04 11:45:16,151 : INFO : PROGRESS: at sentence #0, processed 0 words, keeping 0 word types\n",
      "2019-01-04 11:45:16,177 : INFO : collected 3573 word types from a corpus of 8627 raw words and 1307 sentences\n",
      "2019-01-04 11:45:16,190 : INFO : Loading a fresh vocabulary\n",
      "2019-01-04 11:45:16,225 : INFO : effective_min_count=2 retains 1236 unique words (34% of original 3573, drops 2337)\n",
      "2019-01-04 11:45:16,231 : INFO : effective_min_count=2 leaves 6290 word corpus (72% of original 8627, drops 2337)\n",
      "2019-01-04 11:45:16,280 : INFO : deleting the raw counts dictionary of 3573 items\n",
      "2019-01-04 11:45:16,285 : INFO : sample=0.001 downsamples 31 most-common words\n",
      "2019-01-04 11:45:16,298 : INFO : downsampling leaves estimated 4957 word corpus (78.8% of prior 6290)\n",
      "2019-01-04 11:45:16,330 : INFO : estimated required memory for 1236 words and 100 dimensions: 1606800 bytes\n",
      "2019-01-04 11:45:16,349 : INFO : resetting layer weights\n",
      "2019-01-04 11:45:16,570 : INFO : training model with 3 workers on 1236 vocabulary and 100 features, using sg=0 hs=0 sample=0.001 negative=5 window=5\n",
      "2019-01-04 11:45:16,613 : INFO : worker thread finished; awaiting finish of 2 more threads\n",
      "2019-01-04 11:45:16,620 : INFO : worker thread finished; awaiting finish of 1 more threads\n",
      "2019-01-04 11:45:16,718 : INFO : worker thread finished; awaiting finish of 0 more threads\n",
      "2019-01-04 11:45:16,721 : INFO : EPOCH - 1 : training on 8627 raw words (4928 effective words) took 0.1s, 37458 effective words/s\n",
      "2019-01-04 11:45:16,794 : INFO : worker thread finished; awaiting finish of 2 more threads\n",
      "2019-01-04 11:45:16,800 : INFO : worker thread finished; awaiting finish of 1 more threads\n",
      "2019-01-04 11:45:16,880 : INFO : worker thread finished; awaiting finish of 0 more threads\n",
      "2019-01-04 11:45:16,883 : INFO : EPOCH - 2 : training on 8627 raw words (4987 effective words) took 0.1s, 39101 effective words/s\n",
      "2019-01-04 11:45:16,958 : INFO : worker thread finished; awaiting finish of 2 more threads\n",
      "2019-01-04 11:45:16,974 : INFO : worker thread finished; awaiting finish of 1 more threads\n",
      "2019-01-04 11:45:17,056 : INFO : worker thread finished; awaiting finish of 0 more threads\n",
      "2019-01-04 11:45:17,060 : INFO : EPOCH - 3 : training on 8627 raw words (4956 effective words) took 0.1s, 38328 effective words/s\n",
      "2019-01-04 11:45:17,126 : INFO : worker thread finished; awaiting finish of 2 more threads\n",
      "2019-01-04 11:45:17,132 : INFO : worker thread finished; awaiting finish of 1 more threads\n",
      "2019-01-04 11:45:17,212 : INFO : worker thread finished; awaiting finish of 0 more threads\n",
      "2019-01-04 11:45:17,217 : INFO : EPOCH - 4 : training on 8627 raw words (4988 effective words) took 0.1s, 42093 effective words/s\n",
      "2019-01-04 11:45:17,276 : INFO : worker thread finished; awaiting finish of 2 more threads\n",
      "2019-01-04 11:45:17,278 : INFO : worker thread finished; awaiting finish of 1 more threads\n",
      "2019-01-04 11:45:17,414 : INFO : worker thread finished; awaiting finish of 0 more threads\n",
      "2019-01-04 11:45:17,418 : INFO : EPOCH - 5 : training on 8627 raw words (4988 effective words) took 0.2s, 29003 effective words/s\n",
      "2019-01-04 11:45:17,422 : INFO : training on a 43135 raw words (24847 effective words) took 0.8s, 29313 effective words/s\n",
      "2019-01-04 11:45:17,426 : WARNING : under 10 jobs per worker: consider setting a smaller `batch_words' for smoother alpha decay\n",
      "2019-01-04 11:45:17,432 : INFO : training model with 3 workers on 1236 vocabulary and 100 features, using sg=0 hs=0 sample=0.001 negative=5 window=5\n",
      "2019-01-04 11:45:17,484 : INFO : worker thread finished; awaiting finish of 2 more threads\n",
      "2019-01-04 11:45:17,498 : INFO : worker thread finished; awaiting finish of 1 more threads\n",
      "2019-01-04 11:45:17,532 : INFO : worker thread finished; awaiting finish of 0 more threads\n",
      "2019-01-04 11:45:17,536 : INFO : EPOCH - 1 : training on 7108 raw words (2588 effective words) took 0.1s, 38988 effective words/s\n",
      "2019-01-04 11:45:17,548 : WARNING : EPOCH - 1 : supplied example count (1274) did not equal expected count (1307)\n",
      "2019-01-04 11:45:17,593 : INFO : worker thread finished; awaiting finish of 2 more threads\n",
      "2019-01-04 11:45:17,603 : INFO : worker thread finished; awaiting finish of 1 more threads\n",
      "2019-01-04 11:45:17,632 : INFO : worker thread finished; awaiting finish of 0 more threads\n",
      "2019-01-04 11:45:17,645 : INFO : EPOCH - 2 : training on 7108 raw words (2574 effective words) took 0.1s, 37778 effective words/s\n",
      "2019-01-04 11:45:17,652 : WARNING : EPOCH - 2 : supplied example count (1274) did not equal expected count (1307)\n",
      "2019-01-04 11:45:17,702 : INFO : worker thread finished; awaiting finish of 2 more threads\n",
      "2019-01-04 11:45:17,708 : INFO : worker thread finished; awaiting finish of 1 more threads\n",
      "2019-01-04 11:45:17,730 : INFO : worker thread finished; awaiting finish of 0 more threads\n",
      "2019-01-04 11:45:17,733 : INFO : EPOCH - 3 : training on 7108 raw words (2552 effective words) took 0.0s, 53467 effective words/s\n",
      "2019-01-04 11:45:17,752 : WARNING : EPOCH - 3 : supplied example count (1274) did not equal expected count (1307)\n",
      "2019-01-04 11:45:17,810 : INFO : worker thread finished; awaiting finish of 2 more threads\n",
      "2019-01-04 11:45:17,822 : INFO : worker thread finished; awaiting finish of 1 more threads\n",
      "2019-01-04 11:45:17,835 : INFO : worker thread finished; awaiting finish of 0 more threads\n",
      "2019-01-04 11:45:17,840 : INFO : EPOCH - 4 : training on 7108 raw words (2556 effective words) took 0.1s, 48037 effective words/s\n",
      "2019-01-04 11:45:17,844 : WARNING : EPOCH - 4 : supplied example count (1274) did not equal expected count (1307)\n",
      "2019-01-04 11:45:17,887 : INFO : worker thread finished; awaiting finish of 2 more threads\n",
      "2019-01-04 11:45:17,893 : INFO : worker thread finished; awaiting finish of 1 more threads\n",
      "2019-01-04 11:45:17,928 : INFO : worker thread finished; awaiting finish of 0 more threads\n",
      "2019-01-04 11:45:17,941 : INFO : EPOCH - 5 : training on 7108 raw words (2576 effective words) took 0.1s, 36166 effective words/s\n",
      "2019-01-04 11:45:17,948 : WARNING : EPOCH - 5 : supplied example count (1274) did not equal expected count (1307)\n",
      "2019-01-04 11:45:17,994 : INFO : worker thread finished; awaiting finish of 2 more threads\n",
      "2019-01-04 11:45:18,020 : INFO : worker thread finished; awaiting finish of 1 more threads\n",
      "2019-01-04 11:45:18,042 : INFO : worker thread finished; awaiting finish of 0 more threads\n",
      "2019-01-04 11:45:18,045 : INFO : EPOCH - 6 : training on 7108 raw words (2563 effective words) took 0.1s, 36682 effective words/s\n",
      "2019-01-04 11:45:18,048 : WARNING : EPOCH - 6 : supplied example count (1274) did not equal expected count (1307)\n",
      "2019-01-04 11:45:18,090 : INFO : worker thread finished; awaiting finish of 2 more threads\n",
      "2019-01-04 11:45:18,097 : INFO : worker thread finished; awaiting finish of 1 more threads\n",
      "2019-01-04 11:45:18,121 : INFO : worker thread finished; awaiting finish of 0 more threads\n",
      "2019-01-04 11:45:18,146 : INFO : EPOCH - 7 : training on 7108 raw words (2583 effective words) took 0.1s, 37776 effective words/s\n",
      "2019-01-04 11:45:18,154 : WARNING : EPOCH - 7 : supplied example count (1274) did not equal expected count (1307)\n",
      "2019-01-04 11:45:18,192 : INFO : worker thread finished; awaiting finish of 2 more threads\n",
      "2019-01-04 11:45:18,195 : INFO : worker thread finished; awaiting finish of 1 more threads\n",
      "2019-01-04 11:45:18,225 : INFO : worker thread finished; awaiting finish of 0 more threads\n",
      "2019-01-04 11:45:18,234 : INFO : EPOCH - 8 : training on 7108 raw words (2595 effective words) took 0.1s, 45222 effective words/s\n",
      "2019-01-04 11:45:18,243 : WARNING : EPOCH - 8 : supplied example count (1274) did not equal expected count (1307)\n",
      "2019-01-04 11:45:18,289 : INFO : worker thread finished; awaiting finish of 2 more threads\n",
      "2019-01-04 11:45:18,310 : INFO : worker thread finished; awaiting finish of 1 more threads\n",
      "2019-01-04 11:45:18,329 : INFO : worker thread finished; awaiting finish of 0 more threads\n",
      "2019-01-04 11:45:18,342 : INFO : EPOCH - 9 : training on 7108 raw words (2587 effective words) took 0.1s, 35563 effective words/s\n",
      "2019-01-04 11:45:18,351 : WARNING : EPOCH - 9 : supplied example count (1274) did not equal expected count (1307)\n"
     ]
    },
    {
     "name": "stderr",
     "output_type": "stream",
     "text": [
      "2019-01-04 11:45:18,404 : INFO : worker thread finished; awaiting finish of 2 more threads\n",
      "2019-01-04 11:45:18,411 : INFO : worker thread finished; awaiting finish of 1 more threads\n",
      "2019-01-04 11:45:18,432 : INFO : worker thread finished; awaiting finish of 0 more threads\n",
      "2019-01-04 11:45:18,445 : INFO : EPOCH - 10 : training on 7108 raw words (2571 effective words) took 0.1s, 43159 effective words/s\n",
      "2019-01-04 11:45:18,452 : WARNING : EPOCH - 10 : supplied example count (1274) did not equal expected count (1307)\n",
      "2019-01-04 11:45:18,494 : INFO : worker thread finished; awaiting finish of 2 more threads\n",
      "2019-01-04 11:45:18,512 : INFO : worker thread finished; awaiting finish of 1 more threads\n",
      "2019-01-04 11:45:18,547 : INFO : worker thread finished; awaiting finish of 0 more threads\n",
      "2019-01-04 11:45:18,550 : INFO : EPOCH - 11 : training on 7108 raw words (2568 effective words) took 0.1s, 36436 effective words/s\n",
      "2019-01-04 11:45:18,557 : WARNING : EPOCH - 11 : supplied example count (1274) did not equal expected count (1307)\n",
      "2019-01-04 11:45:18,603 : INFO : worker thread finished; awaiting finish of 2 more threads\n",
      "2019-01-04 11:45:18,612 : INFO : worker thread finished; awaiting finish of 1 more threads\n",
      "2019-01-04 11:45:18,631 : INFO : worker thread finished; awaiting finish of 0 more threads\n",
      "2019-01-04 11:45:18,635 : INFO : EPOCH - 12 : training on 7108 raw words (2583 effective words) took 0.1s, 49154 effective words/s\n",
      "2019-01-04 11:45:18,641 : WARNING : EPOCH - 12 : supplied example count (1274) did not equal expected count (1307)\n",
      "2019-01-04 11:45:18,747 : INFO : worker thread finished; awaiting finish of 2 more threads\n",
      "2019-01-04 11:45:18,766 : INFO : worker thread finished; awaiting finish of 1 more threads\n",
      "2019-01-04 11:45:18,811 : INFO : worker thread finished; awaiting finish of 0 more threads\n",
      "2019-01-04 11:45:18,817 : INFO : EPOCH - 13 : training on 7108 raw words (2598 effective words) took 0.1s, 21508 effective words/s\n",
      "2019-01-04 11:45:18,820 : WARNING : EPOCH - 13 : supplied example count (1274) did not equal expected count (1307)\n",
      "2019-01-04 11:45:18,867 : INFO : worker thread finished; awaiting finish of 2 more threads\n",
      "2019-01-04 11:45:18,876 : INFO : worker thread finished; awaiting finish of 1 more threads\n",
      "2019-01-04 11:45:18,898 : INFO : worker thread finished; awaiting finish of 0 more threads\n",
      "2019-01-04 11:45:18,906 : INFO : EPOCH - 14 : training on 7108 raw words (2579 effective words) took 0.1s, 45667 effective words/s\n",
      "2019-01-04 11:45:18,912 : WARNING : EPOCH - 14 : supplied example count (1274) did not equal expected count (1307)\n",
      "2019-01-04 11:45:18,954 : INFO : worker thread finished; awaiting finish of 2 more threads\n",
      "2019-01-04 11:45:18,965 : INFO : worker thread finished; awaiting finish of 1 more threads\n",
      "2019-01-04 11:45:18,980 : INFO : worker thread finished; awaiting finish of 0 more threads\n",
      "2019-01-04 11:45:18,986 : INFO : EPOCH - 15 : training on 7108 raw words (2553 effective words) took 0.1s, 50586 effective words/s\n",
      "2019-01-04 11:45:18,989 : WARNING : EPOCH - 15 : supplied example count (1274) did not equal expected count (1307)\n",
      "2019-01-04 11:45:18,993 : INFO : training on a 106620 raw words (38626 effective words) took 1.6s, 24894 effective words/s\n",
      "2019-01-04 11:45:18,996 : WARNING : under 10 jobs per worker: consider setting a smaller `batch_words' for smoother alpha decay\n"
     ]
    },
    {
     "data": {
      "text/plain": [
       "(38626, 106620)"
      ]
     },
     "execution_count": 6,
     "metadata": {},
     "output_type": "execute_result"
    }
   ],
   "source": [
    "from gensim.models import Word2Vec\n",
    "\n",
    "model_p = gensim.models.Word2Vec(text_list_p, size=100, window=5, min_count=2, workers=3)\n",
    "model_p.train(text_list_j, total_examples=len(text_list_p), epochs=15)"
   ]
  },
  {
   "cell_type": "code",
   "execution_count": 9,
   "metadata": {},
   "outputs": [
    {
     "name": "stderr",
     "output_type": "stream",
     "text": [
      "C:\\Users\\ANNISA\\Anaconda3\\lib\\site-packages\\gensim\\matutils.py:737: FutureWarning: Conversion of the second argument of issubdtype from `int` to `np.signedinteger` is deprecated. In future, it will be treated as `np.int32 == np.dtype(int).type`.\n",
      "  if np.issubdtype(vec.dtype, np.int):\n"
     ]
    },
    {
     "data": {
      "text/plain": [
       "[('masyarakat', 0.999805212020874),\n",
       " ('kepemimpinan', 0.999769926071167),\n",
       " ('maruf_amin', 0.9997678995132446),\n",
       " ('warga', 0.9997577667236328),\n",
       " ('presiden', 0.9997571110725403),\n",
       " ('fakta', 0.9997552037239075),\n",
       " ('pns', 0.9997391700744629),\n",
       " ('menteri', 0.9997365474700928),\n",
       " ('pemerintah', 0.9997317790985107),\n",
       " ('pkh', 0.9997305274009705)]"
      ]
     },
     "execution_count": 9,
     "metadata": {},
     "output_type": "execute_result"
    }
   ],
   "source": [
    "w1 = [\"jokowi\"]\n",
    "model_j.wv.most_similar (positive=w1,topn=10)"
   ]
  },
  {
   "cell_type": "code",
   "execution_count": 10,
   "metadata": {},
   "outputs": [
    {
     "name": "stderr",
     "output_type": "stream",
     "text": [
      "2019-01-04 11:46:18,449 : INFO : precomputing L2-norms of word weight vectors\n",
      "C:\\Users\\ANNISA\\Anaconda3\\lib\\site-packages\\gensim\\matutils.py:737: FutureWarning: Conversion of the second argument of issubdtype from `int` to `np.signedinteger` is deprecated. In future, it will be treated as `np.int32 == np.dtype(int).type`.\n",
      "  if np.issubdtype(vec.dtype, np.int):\n"
     ]
    },
    {
     "data": {
      "text/plain": [
       "[('nkri', 0.9993458986282349),\n",
       " ('program', 0.9993394613265991),\n",
       " ('keluarga', 0.9993193745613098),\n",
       " ('semangat', 0.9993059635162354),\n",
       " ('indonesia', 0.9993013143539429),\n",
       " ('pemerintahan', 0.9993009567260742),\n",
       " ('presiden', 0.9993001222610474),\n",
       " ('daerah', 0.9992990493774414),\n",
       " ('fakta', 0.9992954730987549),\n",
       " ('sosok', 0.9992837905883789)]"
      ]
     },
     "execution_count": 10,
     "metadata": {},
     "output_type": "execute_result"
    }
   ],
   "source": [
    "w1 = [\"prabowo\"]\n",
    "model_p.wv.most_similar (positive=w1,topn=10)"
   ]
  },
  {
   "cell_type": "code",
   "execution_count": null,
   "metadata": {},
   "outputs": [],
   "source": []
  }
 ],
 "metadata": {
  "kernelspec": {
   "display_name": "Python 3",
   "language": "python",
   "name": "python3"
  },
  "language_info": {
   "codemirror_mode": {
    "name": "ipython",
    "version": 3
   },
   "file_extension": ".py",
   "mimetype": "text/x-python",
   "name": "python",
   "nbconvert_exporter": "python",
   "pygments_lexer": "ipython3",
   "version": "3.6.5"
  }
 },
 "nbformat": 4,
 "nbformat_minor": 2
}
