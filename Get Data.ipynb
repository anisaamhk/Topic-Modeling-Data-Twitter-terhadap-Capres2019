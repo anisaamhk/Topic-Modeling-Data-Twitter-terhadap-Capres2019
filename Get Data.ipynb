{
 "cells": [
  {
   "cell_type": "code",
   "execution_count": 2,
   "metadata": {},
   "outputs": [],
   "source": [
    "import pandas as pd\n",
    "import sys\n",
    "import tweepy\n",
    "import json\n",
    "import xlsxwriter"
   ]
  },
  {
   "cell_type": "code",
   "execution_count": 3,
   "metadata": {},
   "outputs": [
    {
     "name": "stdout",
     "output_type": "stream",
     "text": [
      "#MenjemputRejeki2019\n",
      "#GoldenGlobes\n",
      "ISAC\n",
      "#KPUWasitRasaTimses\n",
      "#iKON_ImOK_DDay\n",
      "#PagiPagi\n",
      "Hari Senin\n",
      "semangat senin\n",
      "Real Madrid\n",
      "Real Sociedad\n",
      "Golden Globe\n",
      "Vanessa Angel\n",
      "Besok UAS\n",
      "YOU MADE MY DAWN\n",
      "Asia Tenggara\n",
      "hari minggu\n",
      "#DGITM\n",
      "#NidiyaValensiaDiMLC\n",
      "#KPURasaTimses\n",
      "#80juta\n",
      "#RespectLisa\n",
      "#iKONTINUESeoulEncore\n",
      "#BesokSenin\n",
      "#JKWTakutPaparkanMisiVisi\n",
      "#BTSatGDA\n",
      "#80jt\n",
      "#WannableSelcaDay\n",
      "#PrabowoTakutTesNgaji\n",
      "#ForeverWithWannaOne\n",
      "#CutieSexyJBDay\n",
      "#WayV_TEN\n",
      "#inibudayakita\n",
      "#kopisianginiterasa\n",
      "#CUBE_ENT_사과하다\n",
      "#mydayselcaday\n",
      "#McQueenYaQueen\n",
      "#igot7selcaday\n",
      "#PrabowoSandiAja\n",
      "#종현아_골든디스크_본상_축하해\n",
      "#skycastle\n",
      "#gda2019\n",
      "#you_made_my_dawn\n",
      "#pesonaceritaakhir2018awal2019\n",
      "#GOT7\n",
      "#AsianCup2019\n",
      "#MILLIONS5thWin\n",
      "#DefJBDay\n",
      "#CUBE_APOLOGIZE\n",
      "#nulismini\n",
      "#malamminggu\n"
     ]
    }
   ],
   "source": [
    "\n",
    "#Autenticações\n",
    "consumer_key = 'VtrwjoxddfiAsXguhdJm76NM6'\n",
    "consumer_secret = 'B5RQKNS3b7QGLwDzwcJeRbgIrtutQoVNHcBhZL1KFl7yepyObT'\n",
    "access_token = '1071372097333542912-ak1cv74M7HykSiVTuQaO1pzJcPDS6W'\n",
    "access_token_secret = '6Wg2iRn5LJTeX1MTDQ7iKdSLWKyXwm0hZ6bbuP52PiM80'\n",
    "\n",
    "auth = tweepy.OAuthHandler(consumer_key, consumer_secret)\n",
    "auth.set_access_token(access_token, access_token_secret)\n",
    "api = tweepy.API(auth)\n",
    "\n",
    "# Where On Earth ID for Brazil is 23424768.\n",
    "INDO_WOE_ID = 23424846\n",
    "\n",
    "indo_trends = api.trends_place(INDO_WOE_ID)\n",
    "\n",
    "trends = json.loads(json.dumps(indo_trends, indent=1))\n",
    "\n",
    "for trend in trends[0][\"trends\"]:\n",
    "#     print (trend[\"name\"])\n",
    "    print(trend[\"name\"])"
   ]
  },
  {
   "cell_type": "code",
   "execution_count": 6,
   "metadata": {},
   "outputs": [],
   "source": [
    "import csv\n",
    "csvFile_j = open(\"trendingjokowi18.csv\", \"w\")\n",
    "# csvFile3 = open(\"tweet_jokowi3.csv\", \"w\")\n",
    "\n",
    "csvWriter_j = csv.writer(csvFile_j)\n",
    "\n",
    "for tweet in tweepy.Cursor(api.search, q='jokowi', rpp=100).items(2000):\n",
    "    csvWriter_j.writerow([tweet.created_at, tweet.text.encode('utf-8')])"
   ]
  },
  {
   "cell_type": "code",
   "execution_count": 4,
   "metadata": {},
   "outputs": [],
   "source": [
    "import csv\n",
    "csvFile_j = open(\"trendingprabowo24.csv\", \"w\")\n",
    "# csvFile3 = open(\"tweet_jokowi3.csv\", \"w\")\n",
    "\n",
    "csvWriter_j = csv.writer(csvFile_j)\n",
    "\n",
    "for tweet in tweepy.Cursor(api.search, q='prabowo', rpp=100).items(2000):\n",
    "    csvWriter_j.writerow([tweet.created_at, tweet.text.encode('utf-8')])"
   ]
  },
  {
   "cell_type": "code",
   "execution_count": null,
   "metadata": {},
   "outputs": [],
   "source": []
  }
 ],
 "metadata": {
  "kernelspec": {
   "display_name": "Python 3",
   "language": "python",
   "name": "python3"
  },
  "language_info": {
   "codemirror_mode": {
    "name": "ipython",
    "version": 3
   },
   "file_extension": ".py",
   "mimetype": "text/x-python",
   "name": "python",
   "nbconvert_exporter": "python",
   "pygments_lexer": "ipython3",
   "version": "3.6.5"
  }
 },
 "nbformat": 4,
 "nbformat_minor": 2
}
